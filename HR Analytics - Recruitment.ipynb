{
 "cells": [
  {
   "cell_type": "markdown",
   "metadata": {},
   "source": [
    "# HR Analytics\n"
   ]
  },
  {
   "cell_type": "markdown",
   "metadata": {},
   "source": [
    "#### Dataset :\n",
    "The dataset is based on the recruitment of sales employees for a company in Austrailia. \n",
    "The analysis and the model help us to analyse the factors on which these recruitments are based and helps us to build a model on basis of that."
   ]
  },
  {
   "cell_type": "code",
   "execution_count": 1,
   "metadata": {},
   "outputs": [],
   "source": [
    "import numpy as np\n",
    "import pandas as pd\n",
    "import matplotlib.pyplot as plt\n",
    "from sklearn import metrics"
   ]
  },
  {
   "cell_type": "markdown",
   "metadata": {},
   "source": [
    "Import Data"
   ]
  },
  {
   "cell_type": "code",
   "execution_count": 2,
   "metadata": {},
   "outputs": [],
   "source": [
    "import warnings\n",
    "warnings.filterwarnings(\"ignore\")"
   ]
  },
  {
   "cell_type": "code",
   "execution_count": 3,
   "metadata": {},
   "outputs": [],
   "source": [
    "data = pd.read_csv(\"C:/Users/hp/Desktop/Learning/HR PRoject/Dataset.csv\")"
   ]
  },
  {
   "cell_type": "code",
   "execution_count": 4,
   "metadata": {},
   "outputs": [
    {
     "name": "stdout",
     "output_type": "stream",
     "text": [
      "<class 'pandas.core.frame.DataFrame'>\n",
      "RangeIndex: 1000 entries, 0 to 999\n",
      "Data columns (total 15 columns):\n",
      " #   Column                   Non-Null Count  Dtype \n",
      "---  ------                   --------------  ----- \n",
      " 0   Unique ID                1000 non-null   int64 \n",
      " 1   Gender                   1000 non-null   object\n",
      " 2   Age                      1000 non-null   int64 \n",
      " 3   Experience               1000 non-null   int64 \n",
      " 4   Education                1000 non-null   object\n",
      " 5   MaritalDesc              1000 non-null   object\n",
      " 6   1st Language             1000 non-null   object\n",
      " 7   State                    1000 non-null   object\n",
      " 8   Previous Post            1000 non-null   object\n",
      " 9   Salary                   1000 non-null   int64 \n",
      " 10  Platform of Application  1000 non-null   object\n",
      " 11  Employment Status        1000 non-null   object\n",
      " 12  PerformanceScore         1000 non-null   object\n",
      " 13  EmpSatisfaction          1000 non-null   int64 \n",
      " 14  Action                   1000 non-null   int64 \n",
      "dtypes: int64(6), object(9)\n",
      "memory usage: 117.3+ KB\n"
     ]
    }
   ],
   "source": [
    "data.info()"
   ]
  },
  {
   "cell_type": "code",
   "execution_count": 5,
   "metadata": {},
   "outputs": [
    {
     "name": "stdout",
     "output_type": "stream",
     "text": [
      "The dataset has (1000, 15) and has different columns like Index(['Unique ID', 'Gender', 'Age', 'Experience', 'Education', 'MaritalDesc',\n",
      "       '1st Language', 'State', 'Previous Post', 'Salary',\n",
      "       'Platform of Application', 'Employment Status', 'PerformanceScore',\n",
      "       'EmpSatisfaction', 'Action'],\n",
      "      dtype='object')\n"
     ]
    }
   ],
   "source": [
    "\n",
    "print(\"The dataset has\",data.shape,\"and has different columns like\",data.columns)"
   ]
  },
  {
   "cell_type": "code",
   "execution_count": 6,
   "metadata": {
    "scrolled": true
   },
   "outputs": [
    {
     "data": {
      "text/html": [
       "<div>\n",
       "<style scoped>\n",
       "    .dataframe tbody tr th:only-of-type {\n",
       "        vertical-align: middle;\n",
       "    }\n",
       "\n",
       "    .dataframe tbody tr th {\n",
       "        vertical-align: top;\n",
       "    }\n",
       "\n",
       "    .dataframe thead th {\n",
       "        text-align: right;\n",
       "    }\n",
       "</style>\n",
       "<table border=\"1\" class=\"dataframe\">\n",
       "  <thead>\n",
       "    <tr style=\"text-align: right;\">\n",
       "      <th></th>\n",
       "      <th>Unique ID</th>\n",
       "      <th>Gender</th>\n",
       "      <th>Age</th>\n",
       "      <th>Experience</th>\n",
       "      <th>Education</th>\n",
       "      <th>MaritalDesc</th>\n",
       "      <th>1st Language</th>\n",
       "      <th>State</th>\n",
       "      <th>Previous Post</th>\n",
       "      <th>Salary</th>\n",
       "      <th>Platform of Application</th>\n",
       "      <th>Employment Status</th>\n",
       "      <th>PerformanceScore</th>\n",
       "      <th>EmpSatisfaction</th>\n",
       "      <th>Action</th>\n",
       "    </tr>\n",
       "  </thead>\n",
       "  <tbody>\n",
       "    <tr>\n",
       "      <th>0</th>\n",
       "      <td>1</td>\n",
       "      <td>Male</td>\n",
       "      <td>37</td>\n",
       "      <td>17</td>\n",
       "      <td>Graduate</td>\n",
       "      <td>Single</td>\n",
       "      <td>English</td>\n",
       "      <td>VIC</td>\n",
       "      <td>Sales Associate</td>\n",
       "      <td>51120</td>\n",
       "      <td>Linkedin</td>\n",
       "      <td>Employed</td>\n",
       "      <td>Exceeds</td>\n",
       "      <td>5</td>\n",
       "      <td>1</td>\n",
       "    </tr>\n",
       "    <tr>\n",
       "      <th>1</th>\n",
       "      <td>2</td>\n",
       "      <td>Male</td>\n",
       "      <td>45</td>\n",
       "      <td>22</td>\n",
       "      <td>Masters</td>\n",
       "      <td>Married</td>\n",
       "      <td>English</td>\n",
       "      <td>VIC</td>\n",
       "      <td>Account Executive</td>\n",
       "      <td>73149</td>\n",
       "      <td>Linkedin</td>\n",
       "      <td>Employed</td>\n",
       "      <td>Fully Meets</td>\n",
       "      <td>3</td>\n",
       "      <td>1</td>\n",
       "    </tr>\n",
       "    <tr>\n",
       "      <th>2</th>\n",
       "      <td>3</td>\n",
       "      <td>Male</td>\n",
       "      <td>37</td>\n",
       "      <td>12</td>\n",
       "      <td>Masters</td>\n",
       "      <td>Married</td>\n",
       "      <td>English</td>\n",
       "      <td>VIC</td>\n",
       "      <td>Outside Sales</td>\n",
       "      <td>66391</td>\n",
       "      <td>Linkedin</td>\n",
       "      <td>Employed</td>\n",
       "      <td>Fully Meets</td>\n",
       "      <td>3</td>\n",
       "      <td>1</td>\n",
       "    </tr>\n",
       "    <tr>\n",
       "      <th>3</th>\n",
       "      <td>4</td>\n",
       "      <td>Male</td>\n",
       "      <td>40</td>\n",
       "      <td>16</td>\n",
       "      <td>High School</td>\n",
       "      <td>Married</td>\n",
       "      <td>English</td>\n",
       "      <td>VIC</td>\n",
       "      <td>Account Manager</td>\n",
       "      <td>81354</td>\n",
       "      <td>CareerOne</td>\n",
       "      <td>Employed</td>\n",
       "      <td>Fully Meets</td>\n",
       "      <td>5</td>\n",
       "      <td>0</td>\n",
       "    </tr>\n",
       "    <tr>\n",
       "      <th>4</th>\n",
       "      <td>5</td>\n",
       "      <td>Male</td>\n",
       "      <td>29</td>\n",
       "      <td>6</td>\n",
       "      <td>Phd</td>\n",
       "      <td>Divorced</td>\n",
       "      <td>Other</td>\n",
       "      <td>VIC</td>\n",
       "      <td>Sales Manager</td>\n",
       "      <td>123217</td>\n",
       "      <td>Indeed</td>\n",
       "      <td>Employed</td>\n",
       "      <td>Fully Meets</td>\n",
       "      <td>4</td>\n",
       "      <td>0</td>\n",
       "    </tr>\n",
       "  </tbody>\n",
       "</table>\n",
       "</div>"
      ],
      "text/plain": [
       "   Unique ID Gender  Age  Experience    Education MaritalDesc 1st Language  \\\n",
       "0          1   Male   37          17     Graduate      Single      English   \n",
       "1          2   Male   45          22      Masters     Married      English   \n",
       "2          3   Male   37          12      Masters     Married      English   \n",
       "3          4   Male   40          16  High School     Married      English   \n",
       "4          5   Male   29           6          Phd    Divorced        Other   \n",
       "\n",
       "  State      Previous Post  Salary Platform of Application Employment Status  \\\n",
       "0   VIC    Sales Associate   51120                Linkedin         Employed    \n",
       "1   VIC  Account Executive   73149                Linkedin         Employed    \n",
       "2   VIC      Outside Sales   66391                Linkedin         Employed    \n",
       "3   VIC    Account Manager   81354               CareerOne         Employed    \n",
       "4   VIC      Sales Manager  123217                  Indeed         Employed    \n",
       "\n",
       "  PerformanceScore  EmpSatisfaction  Action  \n",
       "0          Exceeds                5       1  \n",
       "1      Fully Meets                3       1  \n",
       "2      Fully Meets                3       1  \n",
       "3      Fully Meets                5       0  \n",
       "4      Fully Meets                4       0  "
      ]
     },
     "execution_count": 6,
     "metadata": {},
     "output_type": "execute_result"
    }
   ],
   "source": [
    "data.head()"
   ]
  },
  {
   "cell_type": "markdown",
   "metadata": {},
   "source": [
    "## EDA"
   ]
  },
  {
   "cell_type": "code",
   "execution_count": 7,
   "metadata": {},
   "outputs": [
    {
     "data": {
      "text/html": [
       "\n",
       "<div class='tableauPlaceholder' id='viz1622884230038' style='position: relative'><noscript><a href='#'><img alt='Story 1 ' src='https:&#47;&#47;public.tableau.com&#47;static&#47;images&#47;HR&#47;HRAnalyticsEDA&#47;Story1&#47;1_rss.png' style='border: none' /></a></noscript><object class='tableauViz'  style='display:none;'><param name='host_url' value='https%3A%2F%2Fpublic.tableau.com%2F' /> <param name='embed_code_version' value='3' /> <param name='site_root' value='' /><param name='name' value='HRAnalyticsEDA&#47;Story1' /><param name='tabs' value='no' /><param name='toolbar' value='yes' /><param name='static_image' value='https:&#47;&#47;public.tableau.com&#47;static&#47;images&#47;HR&#47;HRAnalyticsEDA&#47;Story1&#47;1.png' /> <param name='animate_transition' value='yes' /><param name='display_static_image' value='yes' /><param name='display_spinner' value='yes' /><param name='display_overlay' value='yes' /><param name='display_count' value='yes' /><param name='language' value='en-US' /></object></div>                <script type='text/javascript'>                    var divElement = document.getElementById('viz1622884230038');                    var vizElement = divElement.getElementsByTagName('object')[0];                    vizElement.style.width='1016px';vizElement.style.height='991px';                    var scriptElement = document.createElement('script');                    scriptElement.src = 'https://public.tableau.com/javascripts/api/viz_v1.js';                    vizElement.parentNode.insertBefore(scriptElement, vizElement);                </script>\n"
      ],
      "text/plain": [
       "<IPython.core.display.HTML object>"
      ]
     },
     "metadata": {},
     "output_type": "display_data"
    }
   ],
   "source": [
    "%%HTML\n",
    "\n",
    "<div class='tableauPlaceholder' id='viz1622884230038' style='position: relative'><noscript><a href='#'><img alt='Story 1 ' src='https:&#47;&#47;public.tableau.com&#47;static&#47;images&#47;HR&#47;HRAnalyticsEDA&#47;Story1&#47;1_rss.png' style='border: none' /></a></noscript><object class='tableauViz'  style='display:none;'><param name='host_url' value='https%3A%2F%2Fpublic.tableau.com%2F' /> <param name='embed_code_version' value='3' /> <param name='site_root' value='' /><param name='name' value='HRAnalyticsEDA&#47;Story1' /><param name='tabs' value='no' /><param name='toolbar' value='yes' /><param name='static_image' value='https:&#47;&#47;public.tableau.com&#47;static&#47;images&#47;HR&#47;HRAnalyticsEDA&#47;Story1&#47;1.png' /> <param name='animate_transition' value='yes' /><param name='display_static_image' value='yes' /><param name='display_spinner' value='yes' /><param name='display_overlay' value='yes' /><param name='display_count' value='yes' /><param name='language' value='en-US' /></object></div>                <script type='text/javascript'>                    var divElement = document.getElementById('viz1622884230038');                    var vizElement = divElement.getElementsByTagName('object')[0];                    vizElement.style.width='1016px';vizElement.style.height='991px';                    var scriptElement = document.createElement('script');                    scriptElement.src = 'https://public.tableau.com/javascripts/api/viz_v1.js';                    vizElement.parentNode.insertBefore(scriptElement, vizElement);                </script>"
   ]
  },
  {
   "cell_type": "markdown",
   "metadata": {},
   "source": [
    "### Data Preprocessing"
   ]
  },
  {
   "cell_type": "markdown",
   "metadata": {},
   "source": [
    "The data contains many attributes that are attributes which need to be converted to integers before the further analysis."
   ]
  },
  {
   "cell_type": "code",
   "execution_count": 8,
   "metadata": {},
   "outputs": [
    {
     "name": "stdout",
     "output_type": "stream",
     "text": [
      "<class 'pandas.core.frame.DataFrame'>\n",
      "RangeIndex: 1000 entries, 0 to 999\n",
      "Data columns (total 24 columns):\n",
      " #   Column                   Non-Null Count  Dtype \n",
      "---  ------                   --------------  ----- \n",
      " 0   Unique ID                1000 non-null   int64 \n",
      " 1   Gender                   1000 non-null   object\n",
      " 2   Age                      1000 non-null   int64 \n",
      " 3   Experience               1000 non-null   int64 \n",
      " 4   Education                1000 non-null   object\n",
      " 5   MaritalDesc              1000 non-null   object\n",
      " 6   1st Language             1000 non-null   object\n",
      " 7   State                    1000 non-null   object\n",
      " 8   Previous Post            1000 non-null   object\n",
      " 9   Salary                   1000 non-null   int64 \n",
      " 10  Platform of Application  1000 non-null   object\n",
      " 11  Employment Status        1000 non-null   object\n",
      " 12  PerformanceScore         1000 non-null   object\n",
      " 13  EmpSatisfaction          1000 non-null   int64 \n",
      " 14  Action                   1000 non-null   int64 \n",
      " 15  Sex                      1000 non-null   int32 \n",
      " 16  Educatio                 1000 non-null   int32 \n",
      " 17  Marital                  1000 non-null   int32 \n",
      " 18  Language                 1000 non-null   int32 \n",
      " 19  Residence                1000 non-null   int32 \n",
      " 20  Post                     1000 non-null   int32 \n",
      " 21  Platform                 1000 non-null   int32 \n",
      " 22  EmpStatus                1000 non-null   int32 \n",
      " 23  Performance              1000 non-null   int32 \n",
      "dtypes: int32(9), int64(6), object(9)\n",
      "memory usage: 152.5+ KB\n"
     ]
    }
   ],
   "source": [
    "from sklearn import preprocessing\n",
    "from sklearn.preprocessing import LabelEncoder\n",
    "\n",
    "lb = LabelEncoder()\n",
    "\n",
    "data['Sex'] = lb.fit_transform(data['Gender'])\n",
    "data['Educatio'] = lb.fit_transform(data['Education'])\n",
    "data['Marital'] = lb.fit_transform(data['MaritalDesc'])\n",
    "data['Language'] = lb.fit_transform(data['1st Language'])\n",
    "data['Residence'] = lb.fit_transform(data['State'])\n",
    "data['Post'] = lb.fit_transform(data['Previous Post'])\n",
    "data['Platform'] = lb.fit_transform(data['Platform of Application'])\n",
    "data['EmpStatus'] = lb.fit_transform(data['Employment Status'])\n",
    "data['Performance'] = lb.fit_transform(data['PerformanceScore'])\n",
    "\n",
    "data.info()"
   ]
  },
  {
   "cell_type": "code",
   "execution_count": 9,
   "metadata": {},
   "outputs": [
    {
     "name": "stdout",
     "output_type": "stream",
     "text": [
      "<class 'pandas.core.frame.DataFrame'>\n",
      "RangeIndex: 1000 entries, 0 to 999\n",
      "Data columns (total 14 columns):\n",
      " #   Column           Non-Null Count  Dtype\n",
      "---  ------           --------------  -----\n",
      " 0   Age              1000 non-null   int64\n",
      " 1   Experience       1000 non-null   int64\n",
      " 2   Salary           1000 non-null   int64\n",
      " 3   EmpSatisfaction  1000 non-null   int64\n",
      " 4   Action           1000 non-null   int64\n",
      " 5   Sex              1000 non-null   int32\n",
      " 6   Educatio         1000 non-null   int32\n",
      " 7   Marital          1000 non-null   int32\n",
      " 8   Language         1000 non-null   int32\n",
      " 9   Residence        1000 non-null   int32\n",
      " 10  Post             1000 non-null   int32\n",
      " 11  Platform         1000 non-null   int32\n",
      " 12  EmpStatus        1000 non-null   int32\n",
      " 13  Performance      1000 non-null   int32\n",
      "dtypes: int32(9), int64(5)\n",
      "memory usage: 74.3 KB\n"
     ]
    }
   ],
   "source": [
    "data.drop(['Unique ID','Gender','Education','MaritalDesc','1st Language','State','Previous Post','Platform of Application','Employment Status','PerformanceScore'],inplace=True,axis=1)\n",
    "\n",
    "data.info()"
   ]
  },
  {
   "cell_type": "markdown",
   "metadata": {},
   "source": [
    "After cleaning of the dataset, The data has been split between train and test with the test data being 30% of the overall data."
   ]
  },
  {
   "cell_type": "markdown",
   "metadata": {},
   "source": [
    "### Model Building"
   ]
  },
  {
   "cell_type": "code",
   "execution_count": 10,
   "metadata": {},
   "outputs": [
    {
     "name": "stdout",
     "output_type": "stream",
     "text": [
      "Shape of X training set (700, 13) &  Size of Y training set (700,)\n",
      "Shape of X test set (300, 13) &  Size of Y test set (300,)\n"
     ]
    }
   ],
   "source": [
    "from sklearn.model_selection import train_test_split\n",
    "\n",
    "X = data.drop('Action',axis=1)\n",
    "y = data['Action']\n",
    "\n",
    "X_train, X_test, y_train, y_test = train_test_split(X, y, test_size=0.30,random_state= 100)\n",
    "\n",
    "print('Shape of X training set {}'.format(X_train.shape),'&',' Size of Y training set {}'.format(y_train.shape))\n",
    "\n",
    "print('Shape of X test set {}'.format(X_test.shape),'&',' Size of Y test set {}'.format(y_test.shape))"
   ]
  },
  {
   "cell_type": "markdown",
   "metadata": {},
   "source": [
    "## Data Modelling"
   ]
  },
  {
   "cell_type": "markdown",
   "metadata": {},
   "source": [
    "The important factor to analyse in building the model related to recruitment is recall. The recruiter should make sure that an eligible candidate is not left out from the prediction.\n",
    "A wrong candidate will be filtered out in the further processes like interview,etc but missing out on a eligible candidate will cost the company a lot more."
   ]
  },
  {
   "cell_type": "markdown",
   "metadata": {},
   "source": [
    "### Decision Tree"
   ]
  },
  {
   "cell_type": "code",
   "execution_count": 11,
   "metadata": {},
   "outputs": [
    {
     "name": "stdout",
     "output_type": "stream",
     "text": [
      "              precision    recall  f1-score   support\n",
      "\n",
      "           0       0.90      0.90      0.90       248\n",
      "           1       0.51      0.52      0.51        52\n",
      "\n",
      "    accuracy                           0.83       300\n",
      "   macro avg       0.70      0.71      0.71       300\n",
      "weighted avg       0.83      0.83      0.83       300\n",
      "\n"
     ]
    }
   ],
   "source": [
    "from sklearn.tree import DecisionTreeClassifier\n",
    "\n",
    "dtree = DecisionTreeClassifier(criterion = \"entropy\",max_depth = 17)\n",
    "\n",
    "dtree.fit(X_train,y_train)\n",
    "\n",
    "y_predtree = dtree.predict(X_test)\n",
    "\n",
    "from sklearn.metrics import classification_report,confusion_matrix\n",
    "\n",
    "print(classification_report(y_test,y_predtree))"
   ]
  },
  {
   "cell_type": "code",
   "execution_count": 12,
   "metadata": {},
   "outputs": [
    {
     "name": "stdout",
     "output_type": "stream",
     "text": [
      "[[222  26]\n",
      " [ 25  27]]\n"
     ]
    }
   ],
   "source": [
    "print(confusion_matrix(y_test,y_predtree))"
   ]
  },
  {
   "cell_type": "markdown",
   "metadata": {},
   "source": [
    "### Logistic Regression"
   ]
  },
  {
   "cell_type": "code",
   "execution_count": 13,
   "metadata": {},
   "outputs": [
    {
     "name": "stdout",
     "output_type": "stream",
     "text": [
      "              precision    recall  f1-score   support\n",
      "\n",
      "           0       0.83      1.00      0.91       248\n",
      "           1       0.00      0.00      0.00        52\n",
      "\n",
      "    accuracy                           0.83       300\n",
      "   macro avg       0.41      0.50      0.45       300\n",
      "weighted avg       0.68      0.83      0.75       300\n",
      "\n"
     ]
    }
   ],
   "source": [
    "from sklearn.linear_model import LogisticRegression\n",
    "\n",
    "LR = LogisticRegression(C=0.01, solver='liblinear').fit(X_train,y_train)\n",
    "\n",
    "ylr = LR.predict(X_test)\n",
    "\n",
    "print(classification_report(y_test,ylr))"
   ]
  },
  {
   "cell_type": "code",
   "execution_count": 14,
   "metadata": {},
   "outputs": [
    {
     "name": "stdout",
     "output_type": "stream",
     "text": [
      "[[248   0]\n",
      " [ 52   0]]\n"
     ]
    }
   ],
   "source": [
    "print(confusion_matrix(y_test,ylr))"
   ]
  },
  {
   "cell_type": "markdown",
   "metadata": {},
   "source": [
    "### Support Vector Machines"
   ]
  },
  {
   "cell_type": "code",
   "execution_count": 15,
   "metadata": {},
   "outputs": [
    {
     "name": "stdout",
     "output_type": "stream",
     "text": [
      "              precision    recall  f1-score   support\n",
      "\n",
      "           0       0.83      1.00      0.91       248\n",
      "           1       0.00      0.00      0.00        52\n",
      "\n",
      "    accuracy                           0.83       300\n",
      "   macro avg       0.41      0.50      0.45       300\n",
      "weighted avg       0.68      0.83      0.75       300\n",
      "\n"
     ]
    }
   ],
   "source": [
    "from sklearn import svm\n",
    "\n",
    "clf = svm.SVC(kernel='rbf')\n",
    "\n",
    "clf.fit(X_train, y_train) \n",
    "\n",
    "y_predsvm = clf.predict(X_test)\n",
    "\n",
    "print(classification_report(y_test,y_predsvm))"
   ]
  },
  {
   "cell_type": "code",
   "execution_count": 16,
   "metadata": {},
   "outputs": [
    {
     "name": "stdout",
     "output_type": "stream",
     "text": [
      "[[248   0]\n",
      " [ 52   0]]\n"
     ]
    }
   ],
   "source": [
    "print(confusion_matrix(y_test,y_predsvm))"
   ]
  },
  {
   "cell_type": "markdown",
   "metadata": {},
   "source": [
    "### K - Nearest Negihbours"
   ]
  },
  {
   "cell_type": "code",
   "execution_count": 17,
   "metadata": {},
   "outputs": [
    {
     "name": "stdout",
     "output_type": "stream",
     "text": [
      "              precision    recall  f1-score   support\n",
      "\n",
      "           0       0.84      0.94      0.89       248\n",
      "           1       0.35      0.15      0.21        52\n",
      "\n",
      "    accuracy                           0.80       300\n",
      "   macro avg       0.59      0.55      0.55       300\n",
      "weighted avg       0.76      0.80      0.77       300\n",
      "\n"
     ]
    }
   ],
   "source": [
    "from sklearn.neighbors import KNeighborsClassifier\n",
    "\n",
    "k = 4\n",
    "neigh = KNeighborsClassifier(n_neighbors = k).fit(X_train,y_train)\n",
    "\n",
    "y_neigh = neigh.predict(X_test)\n",
    "\n",
    "print(classification_report(y_test,y_neigh))"
   ]
  },
  {
   "cell_type": "code",
   "execution_count": 18,
   "metadata": {},
   "outputs": [
    {
     "name": "stdout",
     "output_type": "stream",
     "text": [
      "[[233  15]\n",
      " [ 44   8]]\n"
     ]
    }
   ],
   "source": [
    "print(confusion_matrix(y_test,y_neigh))"
   ]
  },
  {
   "cell_type": "markdown",
   "metadata": {},
   "source": [
    "### Random Forest Classifier"
   ]
  },
  {
   "cell_type": "code",
   "execution_count": 19,
   "metadata": {},
   "outputs": [
    {
     "name": "stdout",
     "output_type": "stream",
     "text": [
      "[[248   0]\n",
      " [ 52   0]]\n"
     ]
    }
   ],
   "source": [
    "from sklearn.ensemble import RandomForestClassifier\n",
    "\n",
    "rfc = RandomForestClassifier(n_estimators=250,\n",
    "                              max_depth=12,\n",
    "                              min_samples_leaf=16)\n",
    "\n",
    "rfc.fit(X_train, y_train)\n",
    "\n",
    "rfc_pred = rfc.predict(X_test)\n",
    "\n",
    "print(confusion_matrix(y_test,rfc_pred))"
   ]
  },
  {
   "cell_type": "code",
   "execution_count": 20,
   "metadata": {},
   "outputs": [
    {
     "name": "stdout",
     "output_type": "stream",
     "text": [
      "              precision    recall  f1-score   support\n",
      "\n",
      "           0       0.83      1.00      0.91       248\n",
      "           1       0.00      0.00      0.00        52\n",
      "\n",
      "    accuracy                           0.83       300\n",
      "   macro avg       0.41      0.50      0.45       300\n",
      "weighted avg       0.68      0.83      0.75       300\n",
      "\n"
     ]
    }
   ],
   "source": [
    "print(classification_report(y_test,rfc_pred))"
   ]
  },
  {
   "cell_type": "markdown",
   "metadata": {},
   "source": [
    "### Gradient Boosting Classifier"
   ]
  },
  {
   "cell_type": "code",
   "execution_count": 21,
   "metadata": {},
   "outputs": [
    {
     "name": "stdout",
     "output_type": "stream",
     "text": [
      "[[246   2]\n",
      " [ 50   2]]\n"
     ]
    }
   ],
   "source": [
    "from sklearn.ensemble import GradientBoostingClassifier\n",
    "\n",
    "model =  GradientBoostingClassifier(n_estimators=20,learning_rate=0.10)\n",
    "model.fit(X_train,y_train)\n",
    "\n",
    "y_pred=model.predict(X_test)\n",
    "\n",
    "print(confusion_matrix(y_test, y_pred))"
   ]
  },
  {
   "cell_type": "code",
   "execution_count": 22,
   "metadata": {
    "scrolled": true
   },
   "outputs": [
    {
     "name": "stdout",
     "output_type": "stream",
     "text": [
      "              precision    recall  f1-score   support\n",
      "\n",
      "           0       0.83      0.99      0.90       248\n",
      "           1       0.50      0.04      0.07        52\n",
      "\n",
      "    accuracy                           0.83       300\n",
      "   macro avg       0.67      0.52      0.49       300\n",
      "weighted avg       0.77      0.83      0.76       300\n",
      "\n"
     ]
    }
   ],
   "source": [
    "print(classification_report(y_test, y_pred))"
   ]
  },
  {
   "cell_type": "markdown",
   "metadata": {},
   "source": [
    "### Polynomial Regression"
   ]
  },
  {
   "cell_type": "code",
   "execution_count": 23,
   "metadata": {},
   "outputs": [
    {
     "name": "stdout",
     "output_type": "stream",
     "text": [
      "              precision    recall  f1-score   support\n",
      "\n",
      "           0       0.88      0.84      0.86       248\n",
      "           1       0.37      0.44      0.40        52\n",
      "\n",
      "    accuracy                           0.77       300\n",
      "   macro avg       0.62      0.64      0.63       300\n",
      "weighted avg       0.79      0.77      0.78       300\n",
      "\n"
     ]
    }
   ],
   "source": [
    "from sklearn.preprocessing import PolynomialFeatures\n",
    "\n",
    "pr = PolynomialFeatures(degree=5)\n",
    "\n",
    "x_train_new = pr.fit_transform(X_train)\n",
    "x_test_new = pr.fit_transform(X_test)\n",
    "\n",
    "dtree = DecisionTreeClassifier(criterion = \"entropy\")\n",
    "\n",
    "dtree.fit(x_train_new,y_train)\n",
    "\n",
    "y_predtree1 = dtree.predict(x_test_new)\n",
    "\n",
    "print(classification_report(y_test,y_predtree1))"
   ]
  },
  {
   "cell_type": "code",
   "execution_count": 24,
   "metadata": {},
   "outputs": [
    {
     "data": {
      "text/plain": [
       "PolynomialFeatures(degree=5)"
      ]
     },
     "execution_count": 24,
     "metadata": {},
     "output_type": "execute_result"
    }
   ],
   "source": [
    "pr = PolynomialFeatures(degree=5)\n",
    "x_train_new = pr.fit_transform(X_train)\n",
    "x_test_new = pr.fit_transform(X_test)\n",
    "pr"
   ]
  },
  {
   "cell_type": "code",
   "execution_count": 25,
   "metadata": {},
   "outputs": [
    {
     "name": "stdout",
     "output_type": "stream",
     "text": [
      "[[222  26]\n",
      " [ 25  27]]\n"
     ]
    }
   ],
   "source": [
    "print(confusion_matrix(y_test,y_predtree))"
   ]
  },
  {
   "cell_type": "markdown",
   "metadata": {},
   "source": [
    "In the above models, we see that the value of selecting the candidate is not being predicted properly.\n",
    "This happens due to the difference in the distribution of values of in the dependent variable which leads to over fitting.\n",
    "This can be made proper by using techniques like over sampling and under sampling."
   ]
  },
  {
   "cell_type": "markdown",
   "metadata": {},
   "source": [
    "## Random Over Sampling"
   ]
  },
  {
   "cell_type": "code",
   "execution_count": 26,
   "metadata": {},
   "outputs": [],
   "source": [
    "count_reject, count_accept = data.Action.value_counts()\n",
    "\n",
    "df_reject = data[data['Action'] == 0]\n",
    "df_accept = data[data['Action'] == 1]"
   ]
  },
  {
   "cell_type": "markdown",
   "metadata": {},
   "source": [
    "Count of the data is taken and the data has been classified in different dataframes"
   ]
  },
  {
   "cell_type": "code",
   "execution_count": 27,
   "metadata": {},
   "outputs": [
    {
     "data": {
      "text/plain": [
       "1    811\n",
       "0    811\n",
       "Name: Action, dtype: int64"
      ]
     },
     "execution_count": 27,
     "metadata": {},
     "output_type": "execute_result"
    }
   ],
   "source": [
    "df_accept_over = df_accept.sample(count_reject,replace=True)\n",
    "\n",
    "df_test_over = pd.concat([df_reject,df_accept_over],axis=0)\n",
    "\n",
    "df_test_over['Action'].value_counts()"
   ]
  },
  {
   "cell_type": "markdown",
   "metadata": {},
   "source": [
    "The Data has been randomly over-sampled to have same count of both defaulters and non defaulters"
   ]
  },
  {
   "cell_type": "code",
   "execution_count": 28,
   "metadata": {},
   "outputs": [],
   "source": [
    "X_o = df_test_over.drop('Action',axis=1)\n",
    "y_o = df_test_over['Action']\n",
    "\n",
    "X_train, X_test, y_train, y_test = train_test_split(X_o, y_o, test_size=0.30,random_state=101)"
   ]
  },
  {
   "cell_type": "code",
   "execution_count": 29,
   "metadata": {},
   "outputs": [],
   "source": [
    "from sklearn.preprocessing import StandardScaler\n",
    "\n",
    "sc = StandardScaler()\n",
    "X_train = sc.fit_transform(X_train)\n",
    "X_test = sc.transform(X_test)"
   ]
  },
  {
   "cell_type": "code",
   "execution_count": 30,
   "metadata": {},
   "outputs": [
    {
     "data": {
      "text/plain": [
       "<matplotlib.axes._subplots.AxesSubplot at 0x1b40a3ac430>"
      ]
     },
     "execution_count": 30,
     "metadata": {},
     "output_type": "execute_result"
    },
    {
     "data": {
      "image/png": "[encoded data removed]",
      "text/plain": [
       "<Figure size 576x360 with 1 Axes>"
      ]
     },
     "metadata": {
      "needs_background": "light"
     },
     "output_type": "display_data"
    }
   ],
   "source": [
    "df_test_over.drop('Action', axis=1).corrwith(df_test_over.Action).plot(kind='bar',color='purple', grid=True, figsize=(8, 5), \n",
    "                                                   title=\"Correlation with target\")"
   ]
  },
  {
   "cell_type": "markdown",
   "metadata": {},
   "source": [
    "### Decision Tree"
   ]
  },
  {
   "cell_type": "code",
   "execution_count": 31,
   "metadata": {},
   "outputs": [
    {
     "data": {
      "text/plain": [
       "array([0.5604973 , 0.5557824 , 0.73130032, 0.77815553, 0.7720867 ,\n",
       "       0.81693171, 0.83512867, 0.85811528, 0.85107945, 0.87447881,\n",
       "       0.89271934, 0.89695542, 0.90940505, 0.89904107, 0.90940505,\n",
       "       0.913523  , 0.91148272, 0.91144457, 0.90316184])"
      ]
     },
     "execution_count": 31,
     "metadata": {},
     "output_type": "execute_result"
    }
   ],
   "source": [
    "from sklearn.tree import DecisionTreeClassifier\n",
    "Ds = 20\n",
    "dt_mean_acc = np.zeros((Ds-1))\n",
    "dt_std_acc = np.zeros((Ds-1))\n",
    "dt_f1 = np.zeros((Ds-1))\n",
    "for n in range(1,Ds):\n",
    "    \n",
    "    #Train Model and Predict  \n",
    "    loanTree = DecisionTreeClassifier(criterion=\"entropy\", max_depth = n)\n",
    "    loanTree.fit(X_train,y_train)\n",
    "    \n",
    "    yhat=loanTree.predict(X_test)\n",
    "    dt_mean_acc[n-1] = metrics.accuracy_score(y_test, yhat)\n",
    "    dt_std_acc[n-1]=np.std(yhat==y_test)/np.sqrt(yhat.shape[0])\n",
    "    dt_f1[n-1] = metrics.f1_score(y_test, yhat, average='weighted') \n",
    "\n",
    "#dt_mean_acc\n",
    "dt_f1"
   ]
  },
  {
   "cell_type": "code",
   "execution_count": 32,
   "metadata": {},
   "outputs": [
    {
     "data": {
      "image/png": "[encoded data removed]",
      "text/plain": [
       "<Figure size 432x288 with 1 Axes>"
      ]
     },
     "metadata": {
      "needs_background": "light"
     },
     "output_type": "display_data"
    },
    {
     "name": "stdout",
     "output_type": "stream",
     "text": [
      "The best F1 was with 0.9135229975301032 with max_depth= 16\n"
     ]
    }
   ],
   "source": [
    "plt.plot(range(1,Ds),dt_f1,'g')\n",
    "plt.legend(('F1 score'))\n",
    "plt.ylabel('F1 Score')\n",
    "plt.xlabel('Max Depth')\n",
    "plt.tight_layout()\n",
    "plt.show()\n",
    "print( \"The best F1 was with\", dt_f1.max(), \"with max_depth=\", dt_f1.argmax()+1) "
   ]
  },
  {
   "cell_type": "code",
   "execution_count": 33,
   "metadata": {
    "scrolled": true
   },
   "outputs": [
    {
     "name": "stdout",
     "output_type": "stream",
     "text": [
      "Decision Tree's Accuracy: 0.9158110882956879\n"
     ]
    },
    {
     "data": {
      "text/plain": [
       "DecisionTreeClassifier(criterion='entropy', max_depth=16)"
      ]
     },
     "execution_count": 33,
     "metadata": {},
     "output_type": "execute_result"
    }
   ],
   "source": [
    "bestTree = DecisionTreeClassifier(criterion=\"entropy\", max_depth = dt_f1.argmax()+1).fit(X_train,y_train)\n",
    "bestTree\n",
    "print(\"Decision Tree's Accuracy:\", metrics.accuracy_score(y_test, bestTree.predict(X_test)))\n",
    "bestTree"
   ]
  },
  {
   "cell_type": "code",
   "execution_count": 34,
   "metadata": {},
   "outputs": [
    {
     "name": "stdout",
     "output_type": "stream",
     "text": [
      "              precision    recall  f1-score   support\n",
      "\n",
      "           0       0.96      0.84      0.90       246\n",
      "           1       0.85      0.97      0.91       241\n",
      "\n",
      "    accuracy                           0.90       487\n",
      "   macro avg       0.91      0.90      0.90       487\n",
      "weighted avg       0.91      0.90      0.90       487\n",
      "\n"
     ]
    }
   ],
   "source": [
    "dtree = DecisionTreeClassifier(criterion = \"entropy\",max_depth=18)\n",
    "\n",
    "dtree.fit(X_train,y_train)\n",
    "\n",
    "y_predtree = dtree.predict(X_test)\n",
    "\n",
    "print(classification_report(y_test,y_predtree))"
   ]
  },
  {
   "cell_type": "code",
   "execution_count": 35,
   "metadata": {},
   "outputs": [
    {
     "name": "stdout",
     "output_type": "stream",
     "text": [
      "[[206  40]\n",
      " [  8 233]]\n"
     ]
    }
   ],
   "source": [
    "print(confusion_matrix(y_test,y_predtree))"
   ]
  },
  {
   "cell_type": "code",
   "execution_count": 36,
   "metadata": {},
   "outputs": [],
   "source": [
    "from sklearn import tree"
   ]
  },
  {
   "cell_type": "markdown",
   "metadata": {},
   "source": [
    "### Logistic Regression"
   ]
  },
  {
   "cell_type": "code",
   "execution_count": 37,
   "metadata": {},
   "outputs": [
    {
     "data": {
      "text/plain": [
       "{'newton-cg': 0.6117721144222953,\n",
       " 'lbfgs': 0.6117721144222953,\n",
       " 'liblinear': 0.6117721144222953,\n",
       " 'sag': 0.6117721144222953,\n",
       " 'saga': 0.6117721144222953}"
      ]
     },
     "execution_count": 37,
     "metadata": {},
     "output_type": "execute_result"
    }
   ],
   "source": [
    "from sklearn.linear_model import LogisticRegression\n",
    "from sklearn.metrics import confusion_matrix\n",
    "Ds=['newton-cg', 'lbfgs', 'liblinear', 'sag', 'saga']\n",
    "lr_mean_acc = {}\n",
    "lr_std_acc = {}\n",
    "lr_f1 = {}\n",
    "for n in Ds:\n",
    "    LR = LogisticRegression(solver=n).fit(X_train,y_train)\n",
    "    yhat=LR.predict(X_test)\n",
    "    lr_mean_acc[n] = metrics.accuracy_score(y_test, yhat)\n",
    "    lr_std_acc[n]=np.std(yhat==y_test)/np.sqrt(yhat.shape[0])\n",
    "    lr_f1[n] = metrics.f1_score(y_test, yhat, average='weighted') \n",
    "\n",
    "lr_f1"
   ]
  },
  {
   "cell_type": "code",
   "execution_count": 38,
   "metadata": {},
   "outputs": [
    {
     "name": "stdout",
     "output_type": "stream",
     "text": [
      "LR's Accuracy: 0.6119096509240246\n"
     ]
    }
   ],
   "source": [
    "best_LR = LogisticRegression(solver='lbfgs').fit(X_train,y_train)\n",
    "print(\"LR's Accuracy:\", metrics.accuracy_score(y_test, best_LR.predict(X_test)))"
   ]
  },
  {
   "cell_type": "code",
   "execution_count": 39,
   "metadata": {},
   "outputs": [
    {
     "name": "stdout",
     "output_type": "stream",
     "text": [
      "              precision    recall  f1-score   support\n",
      "\n",
      "           0       0.58      0.64      0.61       246\n",
      "           1       0.59      0.52      0.55       241\n",
      "\n",
      "    accuracy                           0.58       487\n",
      "   macro avg       0.58      0.58      0.58       487\n",
      "weighted avg       0.58      0.58      0.58       487\n",
      "\n"
     ]
    }
   ],
   "source": [
    "LR = LogisticRegression(C=0.01, solver='liblinear').fit(X_train,y_train)\n",
    "\n",
    "ylr = LR.predict(X_test)\n",
    "\n",
    "print(classification_report(y_test,ylr))"
   ]
  },
  {
   "cell_type": "code",
   "execution_count": 40,
   "metadata": {},
   "outputs": [
    {
     "name": "stdout",
     "output_type": "stream",
     "text": [
      "[[158  88]\n",
      " [115 126]]\n"
     ]
    }
   ],
   "source": [
    "print(confusion_matrix(y_test,ylr))"
   ]
  },
  {
   "cell_type": "code",
   "execution_count": 41,
   "metadata": {},
   "outputs": [
    {
     "data": {
      "text/plain": [
       "0.4376731301939058"
      ]
     },
     "execution_count": 41,
     "metadata": {},
     "output_type": "execute_result"
    }
   ],
   "source": [
    "from sklearn.metrics import jaccard_score\n",
    "jaccard_score(y_test, ylr,pos_label=0)"
   ]
  },
  {
   "cell_type": "markdown",
   "metadata": {},
   "source": [
    "### SVM"
   ]
  },
  {
   "cell_type": "code",
   "execution_count": 42,
   "metadata": {},
   "outputs": [
    {
     "data": {
      "text/plain": [
       "{'linear': 0.6074653229511006,\n",
       " 'poly': 0.7618009555880539,\n",
       " 'rbf': 0.7901511041409264,\n",
       " 'sigmoid': 0.4402978523871748}"
      ]
     },
     "execution_count": 42,
     "metadata": {},
     "output_type": "execute_result"
    }
   ],
   "source": [
    "from sklearn import svm\n",
    "from sklearn.metrics import f1_score\n",
    "Ds = ['linear', 'poly', 'rbf', 'sigmoid']\n",
    "svm_mean_acc = {}\n",
    "svm_std_acc = {}\n",
    "svm_f1 = {}\n",
    "for n in Ds:\n",
    "    #Train Model and Predict  \n",
    "    loansvm = svm.SVC(kernel=n).fit(X_train,y_train)\n",
    "    \n",
    "    yhat=loansvm.predict(X_test)\n",
    "    svm_mean_acc[n] = metrics.accuracy_score(y_test, yhat)\n",
    "    svm_std_acc[n]=np.std(yhat==y_test)/np.sqrt(yhat.shape[0])\n",
    "    svm_f1[n] = metrics.f1_score(y_test, yhat, average='weighted') \n",
    "\n",
    "svm_f1"
   ]
  },
  {
   "cell_type": "code",
   "execution_count": 43,
   "metadata": {},
   "outputs": [
    {
     "name": "stdout",
     "output_type": "stream",
     "text": [
      "SVM's Accuracy: 0.7905544147843943\n"
     ]
    }
   ],
   "source": [
    "best_svm = svm.SVC(kernel='rbf',probability=True).fit(X_train,y_train)\n",
    "print(\"SVM's Accuracy:\", metrics.accuracy_score(y_test, best_svm.predict(X_test)))"
   ]
  },
  {
   "cell_type": "code",
   "execution_count": 44,
   "metadata": {},
   "outputs": [
    {
     "name": "stdout",
     "output_type": "stream",
     "text": [
      "              precision    recall  f1-score   support\n",
      "\n",
      "           0       0.82      0.74      0.78       246\n",
      "           1       0.76      0.84      0.80       241\n",
      "\n",
      "    accuracy                           0.79       487\n",
      "   macro avg       0.79      0.79      0.79       487\n",
      "weighted avg       0.79      0.79      0.79       487\n",
      "\n"
     ]
    }
   ],
   "source": [
    "from sklearn import svm\n",
    "clf = svm.SVC(kernel='rbf')\n",
    "\n",
    "clf.fit(X_train, y_train) \n",
    "\n",
    "y_predsvm = clf.predict(X_test)\n",
    "\n",
    "print(classification_report(y_test,y_predsvm))"
   ]
  },
  {
   "cell_type": "code",
   "execution_count": 45,
   "metadata": {},
   "outputs": [
    {
     "name": "stdout",
     "output_type": "stream",
     "text": [
      "[[183  63]\n",
      " [ 39 202]]\n"
     ]
    }
   ],
   "source": [
    "print(confusion_matrix(y_test,y_predsvm))"
   ]
  },
  {
   "cell_type": "code",
   "execution_count": 46,
   "metadata": {},
   "outputs": [
    {
     "data": {
      "text/plain": [
       "0.7901511041409264"
      ]
     },
     "execution_count": 46,
     "metadata": {},
     "output_type": "execute_result"
    }
   ],
   "source": [
    "from sklearn.metrics import f1_score\n",
    "f1_score(y_test, y_predsvm, average='weighted') "
   ]
  },
  {
   "cell_type": "markdown",
   "metadata": {},
   "source": [
    "### K - Nearest Negihbours"
   ]
  },
  {
   "cell_type": "code",
   "execution_count": 47,
   "metadata": {},
   "outputs": [],
   "source": [
    "from sklearn.neighbors import KNeighborsClassifier"
   ]
  },
  {
   "cell_type": "code",
   "execution_count": 48,
   "metadata": {},
   "outputs": [
    {
     "data": {
      "text/plain": [
       "array([0.88090349, 0.85010267, 0.79466119, 0.79055441, 0.74537988,\n",
       "       0.74332649, 0.71663244, 0.70225873, 0.68172485])"
      ]
     },
     "execution_count": 48,
     "metadata": {},
     "output_type": "execute_result"
    }
   ],
   "source": [
    "from sklearn import metrics\n",
    "Ks = 10\n",
    "mean_acc = np.zeros((Ks-1))\n",
    "std_acc = np.zeros((Ks-1))\n",
    "\n",
    "for n in range(1,Ks):\n",
    "   \n",
    "    neigh = KNeighborsClassifier(n_neighbors = n).fit(X_train,y_train)\n",
    "    yhat=neigh.predict(X_test)\n",
    "    mean_acc[n-1] = metrics.accuracy_score(y_test, yhat)\n",
    "\n",
    "    \n",
    "    std_acc[n-1]=np.std(yhat==y_test)/np.sqrt(yhat.shape[0])\n",
    "\n",
    "mean_acc"
   ]
  },
  {
   "cell_type": "code",
   "execution_count": 49,
   "metadata": {},
   "outputs": [
    {
     "data": {
      "image/png": "[encoded data removed]",
      "text/plain": [
       "<Figure size 432x288 with 1 Axes>"
      ]
     },
     "metadata": {
      "needs_background": "light"
     },
     "output_type": "display_data"
    }
   ],
   "source": [
    "plt.plot(range(1,Ks),mean_acc,'g')\n",
    "plt.fill_between(range(1,Ks),mean_acc - 1 * std_acc,mean_acc + 1 * std_acc, alpha=0.10)\n",
    "plt.fill_between(range(1,Ks),mean_acc - 3 * std_acc,mean_acc + 3 * std_acc, alpha=0.10,color=\"green\")\n",
    "plt.legend(('Accuracy ', '+/- 1xstd','+/- 3xstd'))\n",
    "plt.ylabel('Accuracy ')\n",
    "plt.xlabel('Number of Neighbors (K)')\n",
    "plt.tight_layout()\n",
    "plt.show()"
   ]
  },
  {
   "cell_type": "code",
   "execution_count": 50,
   "metadata": {},
   "outputs": [
    {
     "name": "stdout",
     "output_type": "stream",
     "text": [
      "The best accuracy was with 0.8809034907597536 with k= 1\n"
     ]
    }
   ],
   "source": [
    "print( \"The best accuracy was with\", mean_acc.max(), \"with k=\", mean_acc.argmax()+1) "
   ]
  },
  {
   "cell_type": "code",
   "execution_count": 51,
   "metadata": {},
   "outputs": [
    {
     "name": "stdout",
     "output_type": "stream",
     "text": [
      "              precision    recall  f1-score   support\n",
      "\n",
      "           0       0.97      0.79      0.87       246\n",
      "           1       0.82      0.97      0.89       241\n",
      "\n",
      "    accuracy                           0.88       487\n",
      "   macro avg       0.89      0.88      0.88       487\n",
      "weighted avg       0.89      0.88      0.88       487\n",
      "\n"
     ]
    }
   ],
   "source": [
    "k = 1\n",
    "neigh = KNeighborsClassifier(n_neighbors = k).fit(X_train,y_train)\n",
    "\n",
    "y_neigh = neigh.predict(X_test)\n",
    "\n",
    "print(classification_report(y_test,y_neigh))"
   ]
  },
  {
   "cell_type": "code",
   "execution_count": 52,
   "metadata": {},
   "outputs": [
    {
     "name": "stdout",
     "output_type": "stream",
     "text": [
      "[[195  51]\n",
      " [  7 234]]\n"
     ]
    }
   ],
   "source": [
    "print(confusion_matrix(y_test,y_neigh))"
   ]
  },
  {
   "cell_type": "markdown",
   "metadata": {},
   "source": [
    "### Gradient Boosting Classifier"
   ]
  },
  {
   "cell_type": "code",
   "execution_count": 53,
   "metadata": {},
   "outputs": [],
   "source": [
    "from sklearn.ensemble import GradientBoostingClassifier"
   ]
  },
  {
   "cell_type": "code",
   "execution_count": 54,
   "metadata": {},
   "outputs": [
    {
     "name": "stdout",
     "output_type": "stream",
     "text": [
      "[[177  69]\n",
      " [ 37 204]]\n",
      "              precision    recall  f1-score   support\n",
      "\n",
      "           0       0.83      0.72      0.77       246\n",
      "           1       0.75      0.85      0.79       241\n",
      "\n",
      "    accuracy                           0.78       487\n",
      "   macro avg       0.79      0.78      0.78       487\n",
      "weighted avg       0.79      0.78      0.78       487\n",
      "\n"
     ]
    }
   ],
   "source": [
    "model =  GradientBoostingClassifier(n_estimators=20,learning_rate=0.10)\n",
    "model.fit(X_train,y_train)\n",
    "\n",
    "y_pred=model.predict(X_test)\n",
    "\n",
    "print(confusion_matrix(y_test, y_pred))\n",
    "\n",
    "print(classification_report(y_test, y_pred))"
   ]
  },
  {
   "cell_type": "markdown",
   "metadata": {},
   "source": [
    "### Random Forest Classifier"
   ]
  },
  {
   "cell_type": "code",
   "execution_count": 55,
   "metadata": {},
   "outputs": [
    {
     "name": "stdout",
     "output_type": "stream",
     "text": [
      " trying model with 149 estimators..\n",
      " accuracy:95.68788501026694%\n",
      "\n",
      " trying model with 199 estimators..\n",
      " accuracy:93.42915811088297%\n",
      "\n",
      " trying model with 249 estimators..\n",
      " accuracy:93.63449691991786%\n",
      "\n",
      " trying model with 299 estimators..\n",
      " accuracy:93.63449691991786%\n",
      "\n",
      " trying model with 349 estimators..\n",
      " accuracy:93.42915811088297%\n",
      "\n"
     ]
    }
   ],
   "source": [
    "for i in range(149,351,50):\n",
    "    print(f\" trying model with {i} estimators..\")\n",
    "    clf = RandomForestClassifier(n_estimators=i).fit(X_train,y_train)\n",
    "    print(f\" accuracy:{clf.score(X_test, y_test)*100}%\")\n",
    "    print(\"\")"
   ]
  },
  {
   "cell_type": "code",
   "execution_count": 56,
   "metadata": {},
   "outputs": [
    {
     "name": "stdout",
     "output_type": "stream",
     "text": [
      "              precision    recall  f1-score   support\n",
      "\n",
      "           0       1.00      0.90      0.95       246\n",
      "           1       0.91      1.00      0.95       241\n",
      "\n",
      "    accuracy                           0.95       487\n",
      "   macro avg       0.95      0.95      0.95       487\n",
      "weighted avg       0.96      0.95      0.95       487\n",
      "\n"
     ]
    }
   ],
   "source": [
    "from sklearn.ensemble import RandomForestClassifier\n",
    "rfc = RandomForestClassifier(n_estimators=199)\n",
    "\n",
    "rfc.fit(X_train, y_train)\n",
    "\n",
    "rfc_pred = rfc.predict(X_test)\n",
    "\n",
    "print(classification_report(y_test,rfc_pred))"
   ]
  },
  {
   "cell_type": "code",
   "execution_count": 57,
   "metadata": {
    "scrolled": true
   },
   "outputs": [
    {
     "name": "stdout",
     "output_type": "stream",
     "text": [
      "[[222  24]\n",
      " [  0 241]]\n"
     ]
    }
   ],
   "source": [
    "print(confusion_matrix(y_test,rfc_pred))"
   ]
  },
  {
   "cell_type": "code",
   "execution_count": 58,
   "metadata": {
    "scrolled": true
   },
   "outputs": [
    {
     "name": "stdout",
     "output_type": "stream",
     "text": [
      "Mean Absolute Error: 0.049281314168377825\n",
      "Mean Squared Error: 0.049281314168377825\n",
      "Root Mean Squared Error: 0.22199395074726208\n"
     ]
    }
   ],
   "source": [
    "from sklearn import metrics\n",
    "\n",
    "print('Mean Absolute Error:', metrics.mean_absolute_error(y_test, rfc_pred))\n",
    "print('Mean Squared Error:', metrics.mean_squared_error(y_test, rfc_pred))\n",
    "print('Root Mean Squared Error:', np.sqrt(metrics.mean_squared_error(y_test, rfc_pred)))"
   ]
  },
  {
   "cell_type": "code",
   "execution_count": null,
   "metadata": {},
   "outputs": [],
   "source": []
  },
  {
   "cell_type": "markdown",
   "metadata": {},
   "source": [
    "### Polynomial Regression"
   ]
  },
  {
   "cell_type": "code",
   "execution_count": 59,
   "metadata": {},
   "outputs": [
    {
     "name": "stdout",
     "output_type": "stream",
     "text": [
      "              precision    recall  f1-score   support\n",
      "\n",
      "           0       0.98      0.83      0.90       246\n",
      "           1       0.85      0.98      0.91       241\n",
      "\n",
      "    accuracy                           0.90       487\n",
      "   macro avg       0.91      0.90      0.90       487\n",
      "weighted avg       0.91      0.90      0.90       487\n",
      "\n"
     ]
    }
   ],
   "source": [
    "from sklearn.preprocessing import PolynomialFeatures\n",
    "\n",
    "pr = PolynomialFeatures(degree=5)\n",
    "\n",
    "x_train_new = pr.fit_transform(X_train)\n",
    "x_test_new = pr.fit_transform(X_test)\n",
    "\n",
    "dtree = DecisionTreeClassifier(criterion = \"entropy\")\n",
    "\n",
    "dtree.fit(x_train_new,y_train)\n",
    "\n",
    "y_predtree1 = dtree.predict(x_test_new)\n",
    "\n",
    "print(classification_report(y_test,y_predtree1))"
   ]
  },
  {
   "cell_type": "code",
   "execution_count": 60,
   "metadata": {},
   "outputs": [
    {
     "data": {
      "text/plain": [
       "PolynomialFeatures(degree=5)"
      ]
     },
     "execution_count": 60,
     "metadata": {},
     "output_type": "execute_result"
    }
   ],
   "source": [
    "pr = PolynomialFeatures(degree=5)\n",
    "x_train_new = pr.fit_transform(X_train)\n",
    "x_test_new = pr.fit_transform(X_test)\n",
    "pr"
   ]
  },
  {
   "cell_type": "code",
   "execution_count": 61,
   "metadata": {},
   "outputs": [
    {
     "name": "stdout",
     "output_type": "stream",
     "text": [
      "[[206  40]\n",
      " [  8 233]]\n"
     ]
    }
   ],
   "source": [
    "print(confusion_matrix(y_test,y_predtree))"
   ]
  },
  {
   "cell_type": "code",
   "execution_count": 62,
   "metadata": {
    "scrolled": true
   },
   "outputs": [
    {
     "data": {
      "image/png": "[encoded data removed]",
      "text/plain": [
       "<Figure size 1440x1440 with 1 Axes>"
      ]
     },
     "metadata": {
      "needs_background": "light"
     },
     "output_type": "display_data"
    }
   ],
   "source": [
    "plt.rcParams.update({'figure.figsize': (12.0, 8.0)})\n",
    "plt.rcParams.update({'font.size': 14})\n",
    "\n",
    "plt.figure(figsize=(20,20))\n",
    "_ = tree.plot_tree(rfc.estimators_[0], feature_names=X_o.columns, filled=True)"
   ]
  },
  {
   "cell_type": "markdown",
   "metadata": {},
   "source": [
    "### Conclusion\n",
    "\n",
    "We see that from the analysis, the random forest classifier is the best model for the prediction of the dataset.\n",
    "Using the model, we can get the following feature importances."
   ]
  },
  {
   "cell_type": "code",
   "execution_count": 63,
   "metadata": {},
   "outputs": [],
   "source": [
    "fi = pd.DataFrame({'feature': list(X_o.columns),\n",
    "                   'importance': rfc.feature_importances_}).\\\n",
    "                    sort_values('importance', ascending = False)"
   ]
  },
  {
   "cell_type": "code",
   "execution_count": 64,
   "metadata": {},
   "outputs": [
    {
     "data": {
      "text/html": [
       "<div>\n",
       "<style scoped>\n",
       "    .dataframe tbody tr th:only-of-type {\n",
       "        vertical-align: middle;\n",
       "    }\n",
       "\n",
       "    .dataframe tbody tr th {\n",
       "        vertical-align: top;\n",
       "    }\n",
       "\n",
       "    .dataframe thead th {\n",
       "        text-align: right;\n",
       "    }\n",
       "</style>\n",
       "<table border=\"1\" class=\"dataframe\">\n",
       "  <thead>\n",
       "    <tr style=\"text-align: right;\">\n",
       "      <th></th>\n",
       "      <th>feature</th>\n",
       "      <th>importance</th>\n",
       "    </tr>\n",
       "  </thead>\n",
       "  <tbody>\n",
       "    <tr>\n",
       "      <th>1</th>\n",
       "      <td>Experience</td>\n",
       "      <td>0.168831</td>\n",
       "    </tr>\n",
       "    <tr>\n",
       "      <th>0</th>\n",
       "      <td>Age</td>\n",
       "      <td>0.168165</td>\n",
       "    </tr>\n",
       "    <tr>\n",
       "      <th>5</th>\n",
       "      <td>Educatio</td>\n",
       "      <td>0.147236</td>\n",
       "    </tr>\n",
       "    <tr>\n",
       "      <th>2</th>\n",
       "      <td>Salary</td>\n",
       "      <td>0.136529</td>\n",
       "    </tr>\n",
       "    <tr>\n",
       "      <th>9</th>\n",
       "      <td>Post</td>\n",
       "      <td>0.075908</td>\n",
       "    </tr>\n",
       "    <tr>\n",
       "      <th>10</th>\n",
       "      <td>Platform</td>\n",
       "      <td>0.063366</td>\n",
       "    </tr>\n",
       "    <tr>\n",
       "      <th>6</th>\n",
       "      <td>Marital</td>\n",
       "      <td>0.048627</td>\n",
       "    </tr>\n",
       "    <tr>\n",
       "      <th>3</th>\n",
       "      <td>EmpSatisfaction</td>\n",
       "      <td>0.043341</td>\n",
       "    </tr>\n",
       "    <tr>\n",
       "      <th>12</th>\n",
       "      <td>Performance</td>\n",
       "      <td>0.040499</td>\n",
       "    </tr>\n",
       "    <tr>\n",
       "      <th>8</th>\n",
       "      <td>Residence</td>\n",
       "      <td>0.038876</td>\n",
       "    </tr>\n",
       "    <tr>\n",
       "      <th>4</th>\n",
       "      <td>Sex</td>\n",
       "      <td>0.026916</td>\n",
       "    </tr>\n",
       "    <tr>\n",
       "      <th>7</th>\n",
       "      <td>Language</td>\n",
       "      <td>0.020954</td>\n",
       "    </tr>\n",
       "    <tr>\n",
       "      <th>11</th>\n",
       "      <td>EmpStatus</td>\n",
       "      <td>0.020752</td>\n",
       "    </tr>\n",
       "  </tbody>\n",
       "</table>\n",
       "</div>"
      ],
      "text/plain": [
       "            feature  importance\n",
       "1        Experience    0.168831\n",
       "0               Age    0.168165\n",
       "5          Educatio    0.147236\n",
       "2            Salary    0.136529\n",
       "9              Post    0.075908\n",
       "10         Platform    0.063366\n",
       "6           Marital    0.048627\n",
       "3   EmpSatisfaction    0.043341\n",
       "12      Performance    0.040499\n",
       "8         Residence    0.038876\n",
       "4               Sex    0.026916\n",
       "7          Language    0.020954\n",
       "11        EmpStatus    0.020752"
      ]
     },
     "execution_count": 64,
     "metadata": {},
     "output_type": "execute_result"
    }
   ],
   "source": [
    "fi"
   ]
  },
  {
   "cell_type": "code",
   "execution_count": null,
   "metadata": {},
   "outputs": [],
   "source": []
  },
  {
   "cell_type": "code",
   "execution_count": null,
   "metadata": {},
   "outputs": [],
   "source": []
  }
 ],
 "metadata": {
  "kernelspec": {
   "display_name": "Python 3",
   "language": "python",
   "name": "python3"
  },
  "language_info": {
   "codemirror_mode": {
    "name": "ipython",
    "version": 3
   },
   "file_extension": ".py",
   "mimetype": "text/x-python",
   "name": "python",
   "nbconvert_exporter": "python",
   "pygments_lexer": "ipython3",
   "version": "3.8.3"
  }
 },
 "nbformat": 4,
 "nbformat_minor": 4
}
